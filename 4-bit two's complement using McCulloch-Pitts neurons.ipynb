{
  "cells": [
    {
      "cell_type": "markdown",
      "metadata": {
        "id": "GXEx4ldN2eiD"
      },
      "source": [
        "## Neural network Homework - 2's complement circuit"
      ]
    },
    {
      "cell_type": "markdown",
      "metadata": {
        "id": "OOlRzlFw1Pre"
      },
      "source": [
        "#### You can import your arbitrary input here!"
      ]
    },
    {
      "cell_type": "code",
      "execution_count": 9,
      "metadata": {
        "colab": {
          "base_uri": "https://localhost:8080/"
        },
        "id": "eIuXCFcAMnkY",
        "outputId": "9e6dd0b3-b0d8-47df-9965-3e75eb0adb03"
      },
      "outputs": [
        {
          "name": "stdout",
          "output_type": "stream",
          "text": [
            "WELCOME :)\n",
            "here we implemented 4bit 2's complement digital circuit with mcculloch pitts neurons ... \n",
            "please give me a 4 bit input then press enter \"for instance 0011\"\n"
          ]
        }
      ],
      "source": [
        "print('WELCOME :)')\n",
        "print(\"here we implemented 4bit 2's complement digital circuit with mcculloch pitts neurons ... \")\n",
        "print('please give me a 4 bit input then press enter \"for instance 0011\"')"
      ]
    },
    {
      "cell_type": "code",
      "execution_count": 10,
      "metadata": {
        "colab": {
          "base_uri": "https://localhost:8080/"
        },
        "id": "P91-rToAK-sq",
        "outputId": "f0053729-ac25-4aea-a48c-74275b5987b1"
      },
      "outputs": [
        {
          "name": "stdout",
          "output_type": "stream",
          "text": [
            "You gave me valid input: 0101\n"
          ]
        }
      ],
      "source": [
        "aa = input(\"Enter a four-bit binary number: \")\n",
        "xx = list(aa)\n",
        "\n",
        "# we assert that the input is exactly four characters long and consists only of '0's and '1's\n",
        "assert len(xx) == 4 and all(c in '01' for c in xx), \"You entered wrong string; make sure that the input must be a four-bit string.\"\n",
        "print('You gave me valid input:', aa)"
      ]
    },
    {
      "cell_type": "markdown",
      "metadata": {
        "id": "3wiqjTHd1Wv0"
      },
      "source": [
        "### Here is our 2's complement network class\n",
        "We consider the propagation delay of each logic gate (constructed by neurons) to be equivalent to 1 clock cycle."
      ]
    },
    {
      "cell_type": "code",
      "execution_count": 11,
      "metadata": {
        "colab": {
          "base_uri": "https://localhost:8080/"
        },
        "id": "1v76fyTUOo2B",
        "outputId": "d0085e6c-63f4-49a2-e844-989c7de15332"
      },
      "outputs": [
        {
          "name": "stdout",
          "output_type": "stream",
          "text": [
            "input of the network was  0101\n",
            "Output of the whole network (2's complement of 0101) is: 1011\n",
            "It takes 3 clock\n"
          ]
        }
      ],
      "source": [
        "class two_s_complement:\n",
        "    clk=0\n",
        "    def __init__(self, input_str):\n",
        "        # Validating that input_str is a 4-bit binary string\n",
        "        assert len(input_str) == 4 and all(c in '01' for c in input_str), \"You entered wrong string make sure that input must be a four-bit string.\"\n",
        "        self.input=(list(map(lambda z: int(z), input_str)))[::-1]\n",
        "\n",
        "\n",
        "    def mcculloch_pitts_neuron2(self, input1, input2, threshold, weight1, weight2):\n",
        "        net = input1 * weight1 + input2 * weight2\n",
        "        # Comparing the net input with the threshold\n",
        "        return 1 if net >= threshold else 0\n",
        "\n",
        "    def OR_by_mcculloch_pitts_neuron2(self, input1, input2):\n",
        "        return self.mcculloch_pitts_neuron2(input1, input2, threshold=1, weight1=1, weight2=1)\n",
        "\n",
        "    def XOR_by_mcculloch_pitts_neuron2(self, input1, input2):\n",
        "        # Note: Adjusting the weights and thresholds according to XOR logic.\n",
        "        p1 = self.mcculloch_pitts_neuron2(input1,  input2, threshold=1, weight1=-0.5, weight2=1)  #logic1\n",
        "        p2 = self.mcculloch_pitts_neuron2(input1, input2, threshold=1, weight1=1, weight2=-0.5)  #logic2\n",
        "        return self.mcculloch_pitts_neuron2(p1, p2, threshold=1, weight1=1, weight2=1)\n",
        "\n",
        "    def whole_network(self):\n",
        "        out0 = self.input[0]\n",
        "        #print(out0)\n",
        "        s1 = self.OR_by_mcculloch_pitts_neuron2(self.input[0], self.input[1])\n",
        "        out1 = self.XOR_by_mcculloch_pitts_neuron2(self.input[0], self.input[1])\n",
        "        #print(out1)\n",
        "        self.clk +=1\n",
        "        out2 = self.XOR_by_mcculloch_pitts_neuron2(s1, self.input[2])\n",
        "        #print(out2)\n",
        "        self.clk +=1\n",
        "        s2 = self.OR_by_mcculloch_pitts_neuron2(s1, self.input[2])\n",
        "        out3 = self.XOR_by_mcculloch_pitts_neuron2(s2, self.input[3])\n",
        "        self.clk +=1\n",
        "        #print(out3)\n",
        "        return str(int(out3)) + str(int(out2)) + str(int(out1)) + str(int(out0))\n",
        "\n",
        "\n",
        "\n",
        "# Example usage\n",
        "#a = \"0100\"  # Example 4-bit binary string\n",
        "object1 = two_s_complement(aa)\n",
        "output = object1.whole_network()\n",
        "print(\"input of the network was \", aa)\n",
        "print(\"Output of the whole network (2's complement of %s) is: %s\"% (aa,output))\n",
        "print('It takes %i clock'% (object1.clk))\n"
      ]
    },
    {
      "cell_type": "markdown",
      "metadata": {
        "id": "W0OJ_su01crD"
      },
      "source": [
        "#### Testing function for constructing the Truth Table of our 2's complement network"
      ]
    },
    {
      "cell_type": "code",
      "execution_count": 12,
      "metadata": {
        "colab": {
          "base_uri": "https://localhost:8080/"
        },
        "id": "fgJDIydLtRZF",
        "outputId": "adac501c-cbcb-40f0-cc28-41b3450c517e"
      },
      "outputs": [
        {
          "name": "stdout",
          "output_type": "stream",
          "text": [
            "0  -   0000 ===> Our 2's complement network ===> 0000\n",
            "1  -   0001 ===> Our 2's complement network ===> 1111\n",
            "2  -   0010 ===> Our 2's complement network ===> 1110\n",
            "3  -   0011 ===> Our 2's complement network ===> 1101\n",
            "4  -   0100 ===> Our 2's complement network ===> 1100\n",
            "5  -   0101 ===> Our 2's complement network ===> 1011\n",
            "6  -   0110 ===> Our 2's complement network ===> 1010\n",
            "7  -   0111 ===> Our 2's complement network ===> 1001\n",
            "8  -   1000 ===> Our 2's complement network ===> 1000\n",
            "9  -   1001 ===> Our 2's complement network ===> 0111\n",
            "10 -   1010 ===> Our 2's complement network ===> 0110\n",
            "11 -   1011 ===> Our 2's complement network ===> 0101\n",
            "12 -   1100 ===> Our 2's complement network ===> 0100\n",
            "13 -   1101 ===> Our 2's complement network ===> 0011\n",
            "14 -   1110 ===> Our 2's complement network ===> 0010\n",
            "15 -   1111 ===> Our 2's complement network ===> 0001\n"
          ]
        }
      ],
      "source": [
        "def binary_numbers_generator():\n",
        "    # Iterate through the numbers 0 to 15\n",
        "    for number in range(16):  # 16 is not included, so we get 0 to 15\n",
        "        # Convert number to binary, remove the '0b' prefix, and pad with zeros to ensure 4 digits\n",
        "        binary_number = format(number, '04b')\n",
        "        yield binary_number  # Yield the binary number as a string\n",
        "\n",
        "def truth_table_tester():\n",
        "    for i, binary_number in enumerate(binary_numbers_generator()):\n",
        "        object2 = two_s_complement(binary_number)\n",
        "        output = object2.whole_network()\n",
        "        if i<=9:\n",
        "            print(i,' -  ',binary_number , \"===> Our 2's complement network ===>\",output )\n",
        "        else:\n",
        "            print(i,'-  ',binary_number , \"===> Our 2's complement network ===>\",output )\n",
        "\n",
        "\n",
        "truth_table_tester()\n"
      ]
    }
  ],
  "metadata": {
    "colab": {
      "provenance": []
    },
    "kernelspec": {
      "display_name": "Python 3",
      "name": "python3"
    },
    "language_info": {
      "codemirror_mode": {
        "name": "ipython",
        "version": 3
      },
      "file_extension": ".py",
      "mimetype": "text/x-python",
      "name": "python",
      "nbconvert_exporter": "python",
      "pygments_lexer": "ipython3",
      "version": "3.11.5"
    }
  },
  "nbformat": 4,
  "nbformat_minor": 0
}
